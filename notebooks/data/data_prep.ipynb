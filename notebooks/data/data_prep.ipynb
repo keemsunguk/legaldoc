{
 "cells": [
  {
   "cell_type": "code",
   "execution_count": 1,
   "id": "a67f6d7c-fad0-4bc9-872b-91a2576c28f3",
   "metadata": {},
   "outputs": [],
   "source": [
    "%load_ext autoreload\n",
    "%autoreload 2\n",
    "PROJ_HOME='/Users/skeem396/Projects/legaldoc/'\n",
    "import sys\n",
    "sys.path.append(PROJ_HOME)\n",
    "from datetime import datetime, timedelta\n",
    "from pathlib import Path\n",
    "import warnings\n",
    "warnings.simplefilter(action='ignore', category=FutureWarning)"
   ]
  },
  {
   "cell_type": "markdown",
   "id": "6eb1ba44-16b2-4666-9e22-aa006a39a1c2",
   "metadata": {},
   "source": [
    "# Rivannas Data Prep"
   ]
  },
  {
   "cell_type": "code",
   "execution_count": 2,
   "id": "97a7c12e-5c79-4e8c-ad44-bdeede1e738c",
   "metadata": {},
   "outputs": [],
   "source": [
    "from legaldoc.preprocess import set_data_path, load_docx, clean_up, review_tables"
   ]
  },
  {
   "cell_type": "code",
   "execution_count": 36,
   "id": "997006bb-7f6a-4df1-918f-7c23847f230d",
   "metadata": {},
   "outputs": [],
   "source": [
    "from sklearn.metrics.pairwise import cosine_similarity"
   ]
  },
  {
   "cell_type": "code",
   "execution_count": 3,
   "id": "9f8b58e5-34b8-4fcf-8446-b921830ba09a",
   "metadata": {},
   "outputs": [
    {
     "data": {
      "application/vnd.jupyter.widget-view+json": {
       "model_id": "ca3901eed233438296ed31e068d86151",
       "version_major": 2,
       "version_minor": 0
      },
      "text/plain": [
       "Downloading:   0%|          | 0.00/1.18k [00:00<?, ?B/s]"
      ]
     },
     "metadata": {},
     "output_type": "display_data"
    },
    {
     "data": {
      "application/vnd.jupyter.widget-view+json": {
       "model_id": "6801f29121de4e528189692df350f86b",
       "version_major": 2,
       "version_minor": 0
      },
      "text/plain": [
       "Downloading:   0%|          | 0.00/190 [00:00<?, ?B/s]"
      ]
     },
     "metadata": {},
     "output_type": "display_data"
    },
    {
     "data": {
      "application/vnd.jupyter.widget-view+json": {
       "model_id": "5c5d8be12dce465cb9043d1ca4f7a6af",
       "version_major": 2,
       "version_minor": 0
      },
      "text/plain": [
       "Downloading:   0%|          | 0.00/10.6k [00:00<?, ?B/s]"
      ]
     },
     "metadata": {},
     "output_type": "display_data"
    },
    {
     "data": {
      "application/vnd.jupyter.widget-view+json": {
       "model_id": "a4f264b388f249eba43ddcd27ae1c1ed",
       "version_major": 2,
       "version_minor": 0
      },
      "text/plain": [
       "Downloading:   0%|          | 0.00/612 [00:00<?, ?B/s]"
      ]
     },
     "metadata": {},
     "output_type": "display_data"
    },
    {
     "data": {
      "application/vnd.jupyter.widget-view+json": {
       "model_id": "0b411d67ea314b89be1781e9a89cc28b",
       "version_major": 2,
       "version_minor": 0
      },
      "text/plain": [
       "Downloading:   0%|          | 0.00/116 [00:00<?, ?B/s]"
      ]
     },
     "metadata": {},
     "output_type": "display_data"
    },
    {
     "data": {
      "application/vnd.jupyter.widget-view+json": {
       "model_id": "80eb8c427b424c098e07e39287b6ab4c",
       "version_major": 2,
       "version_minor": 0
      },
      "text/plain": [
       "Downloading:   0%|          | 0.00/39.3k [00:00<?, ?B/s]"
      ]
     },
     "metadata": {},
     "output_type": "display_data"
    },
    {
     "data": {
      "application/vnd.jupyter.widget-view+json": {
       "model_id": "8a5d43ee40d44afa9b4d3b8e602b2395",
       "version_major": 2,
       "version_minor": 0
      },
      "text/plain": [
       "Downloading:   0%|          | 0.00/90.9M [00:00<?, ?B/s]"
      ]
     },
     "metadata": {},
     "output_type": "display_data"
    },
    {
     "data": {
      "application/vnd.jupyter.widget-view+json": {
       "model_id": "ae72e8ee3f2f41259ab5f03cc8b302ce",
       "version_major": 2,
       "version_minor": 0
      },
      "text/plain": [
       "Downloading:   0%|          | 0.00/53.0 [00:00<?, ?B/s]"
      ]
     },
     "metadata": {},
     "output_type": "display_data"
    },
    {
     "data": {
      "application/vnd.jupyter.widget-view+json": {
       "model_id": "a8043016065745ffa96a11a2fea15597",
       "version_major": 2,
       "version_minor": 0
      },
      "text/plain": [
       "Downloading:   0%|          | 0.00/112 [00:00<?, ?B/s]"
      ]
     },
     "metadata": {},
     "output_type": "display_data"
    },
    {
     "data": {
      "application/vnd.jupyter.widget-view+json": {
       "model_id": "cd61db3e6f1046d7a08c9abdb1ea2a3a",
       "version_major": 2,
       "version_minor": 0
      },
      "text/plain": [
       "Downloading:   0%|          | 0.00/466k [00:00<?, ?B/s]"
      ]
     },
     "metadata": {},
     "output_type": "display_data"
    },
    {
     "data": {
      "application/vnd.jupyter.widget-view+json": {
       "model_id": "0c00b45ac7a040d99c72f6afd6076dc5",
       "version_major": 2,
       "version_minor": 0
      },
      "text/plain": [
       "Downloading:   0%|          | 0.00/350 [00:00<?, ?B/s]"
      ]
     },
     "metadata": {},
     "output_type": "display_data"
    },
    {
     "data": {
      "application/vnd.jupyter.widget-view+json": {
       "model_id": "354c00462c64445c86a6866cb46435fe",
       "version_major": 2,
       "version_minor": 0
      },
      "text/plain": [
       "Downloading:   0%|          | 0.00/13.2k [00:00<?, ?B/s]"
      ]
     },
     "metadata": {},
     "output_type": "display_data"
    },
    {
     "data": {
      "application/vnd.jupyter.widget-view+json": {
       "model_id": "5413d95c80cc4f898d59fde138e48b32",
       "version_major": 2,
       "version_minor": 0
      },
      "text/plain": [
       "Downloading:   0%|          | 0.00/232k [00:00<?, ?B/s]"
      ]
     },
     "metadata": {},
     "output_type": "display_data"
    },
    {
     "data": {
      "application/vnd.jupyter.widget-view+json": {
       "model_id": "f8d8dad3e6c44ea9bb11584ad404ee38",
       "version_major": 2,
       "version_minor": 0
      },
      "text/plain": [
       "Downloading:   0%|          | 0.00/349 [00:00<?, ?B/s]"
      ]
     },
     "metadata": {},
     "output_type": "display_data"
    }
   ],
   "source": [
    "from sentence_transformers import SentenceTransformer\n",
    "model = SentenceTransformer('all-MiniLM-L6-v2')"
   ]
  },
  {
   "cell_type": "code",
   "execution_count": 4,
   "id": "9f3c1516-6de7-4afb-a2d8-2c842f17ec42",
   "metadata": {},
   "outputs": [],
   "source": [
    "tmp = set_data_path(PROJ_HOME, '/docs/credit-agreement-samples/*/*/*/*.docx')"
   ]
  },
  {
   "cell_type": "code",
   "execution_count": 5,
   "id": "bb18639b-be1c-485f-b5d2-d868f4456d58",
   "metadata": {},
   "outputs": [],
   "source": [
    "doc_list = load_docx(tmp)"
   ]
  },
  {
   "cell_type": "code",
   "execution_count": 10,
   "id": "f70a5b7b-b1fe-4c7b-bd1d-de920986bfcb",
   "metadata": {
    "scrolled": true,
    "tags": []
   },
   "outputs": [],
   "source": [
    "doc_list[0]['sentences'] = [s.split('.') for s in doc_list[0]['raw']]"
   ]
  },
  {
   "cell_type": "code",
   "execution_count": 12,
   "id": "6b416b59-fb89-44eb-b19d-ce799b1c9b67",
   "metadata": {},
   "outputs": [],
   "source": [
    "doc_list[0]['sentences'] = [item for sublist in doc_list[0]['sentences'] for item in sublist]"
   ]
  },
  {
   "cell_type": "code",
   "execution_count": 14,
   "id": "c732ac97-033b-4b13-a838-10f224205e18",
   "metadata": {},
   "outputs": [],
   "source": [
    "#doc_list[0]['sentences']"
   ]
  },
  {
   "cell_type": "code",
   "execution_count": 15,
   "id": "26cad9c0-021a-40cb-b611-54d1e39f6856",
   "metadata": {},
   "outputs": [],
   "source": [
    "#review_tables(doc_list[0]['tables'])"
   ]
  },
  {
   "cell_type": "code",
   "execution_count": 16,
   "id": "11769dc7-af6f-4ab1-9af9-3122657025ca",
   "metadata": {},
   "outputs": [],
   "source": [
    "model = SentenceTransformer('all-MiniLM-L6-v2')"
   ]
  },
  {
   "cell_type": "code",
   "execution_count": 20,
   "id": "b61cf4b4-a574-44b8-a51c-2f4a8c6b4ee4",
   "metadata": {},
   "outputs": [],
   "source": [
    "embeddings = model.encode(doc_list[0]['raw'])"
   ]
  },
  {
   "cell_type": "code",
   "execution_count": 28,
   "id": "276fb982-9441-46ec-8190-d9be5f29e982",
   "metadata": {
    "scrolled": true,
    "tags": []
   },
   "outputs": [
    {
     "name": "stdout",
     "output_type": "stream",
     "text": [
      "2 : Sentence: SECOND AMENDMENT TO CREDIT AGREEMENT, dated as of January 26, 2022 (this “Amendment”), by and among CAESARS ENTERTAINMENT, INC., a Delaware corporation (f/k/a ELDORADO RESORTS, INC., a Nevada corporation), as borrower (the “Borrower”), and the Administrative Agent (as defined below), relating to that certain Credit Agreement, dated as of July 20, 2020 (as amended by the First Amendment to Credit Agreement, dated as of November 10, 2021, and as further amended, restated, supplemented, waived or otherwise modified from time to time prior to the date hereof, the “Existing Credit Agreement”; and the Existing Credit Agreement as amended by this Amendment, and as it may be further amended, restated, supplemented, waived or otherwise modified from time to time, the “Credit Agreement”), among the Borrower, the Lenders party thereto from time to time, JPMORGAN CHASE BANK, N.A., as administrative agent for the Lenders (together with its successors and assigns in such capacity, the “Administrative Agent”), and U.S. BANK NATIONAL ASSOCIATION, as Collateral Agent. \n",
      "Embedding: [-0.0313516  -0.03625893  0.00032078 -0.01528143 -0.03367187  0.00747431\n",
      " -0.03464806  0.01515944  0.03963289 -0.07292567]\n",
      "--------------------------------------------\n",
      "4 : Sentence: WHEREAS, pursuant to the Existing Credit Agreement, each Lender with a Revolving Facility Commitment has agreed to make Revolving Facility Loans to the Borrower in Alternate Currencies including, without limitation, Euros, Sterling and Yen (the “Affected Currencies”); \n",
      "Embedding: [-0.0022061  -0.03296971 -0.07379316 -0.03021554 -0.03634271 -0.0470691\n",
      " -0.08458545  0.00577913  0.06078934 -0.08414799]\n",
      "--------------------------------------------\n",
      "5 : Sentence: WHEREAS, pursuant to the Existing Credit Agreement (including, without limitation, the definitions of “Eurocurrency Screen Rate”, “Eurocurrency Rate” and “Adjusted Eurocurrency Rate”), Alternate Currency Loans denominated in the Affected Currencies incur or are permitted to incur interest, fees or other amounts based on the London interbank offered rate as administered by ICE Benchmark Administration in accordance with the terms of the Existing Credit Agreement; and \n",
      "Embedding: [-0.07769664 -0.01530502 -0.00841912 -0.05681763  0.02291108 -0.03440491\n",
      " -0.04287078  0.03830209  0.03012135 -0.06930824]\n",
      "--------------------------------------------\n",
      "6 : Sentence: WHEREAS, a Benchmark Transition Event has occurred with respect to the Affected Currencies and, pursuant to Section 2.14(b) of the Existing Credit Agreement, the Administrative Agent and the Borrower have determined in accordance with the Existing Credit Agreement that the Eurocurrency Rate for the Affected Currencies should be replaced with the applicable Benchmark Replacement for all purposes under the Credit Agreement and any Loan Document and such changes (which shall include Benchmark Replacement Conforming Changes as permitted by Section 2.14(c) of the Credit Agreement) shall become effective at and after 5:00 p.m. (Local Time) on the fifth (5th) Business Day after the Administrative Agent has posted a proposed version of this Amendment to all Lenders and the Borrower (such time, the “Objection Deadline”) (it being understood that such proposed version of this Amendment was posted to all Lenders and the Borrower on January 19, 2022), so long as the Administrative Agent has not received, by such time, written notice of objection to this Amendment from Lenders comprising the Required Lenders. \n",
      "Embedding: [-0.05186693  0.02434125  0.04780121  0.00058819  0.03520191 -0.00250917\n",
      " -0.09026358  0.03084087  0.04679174 -0.04033019]\n",
      "--------------------------------------------\n",
      "7 : Sentence: NOW, THEREFORE, in consideration of the premises and agreements, provisions and covenants herein contained and other good and valuable consideration, the receipt and sufficiency of which are hereby acknowledged, the parties hereto agree as follows: \n",
      "Embedding: [-0.04881451  0.11867625  0.01141307 -0.0775113  -0.00035979  0.09072935\n",
      "  0.10445598 -0.0372969  -0.00351814  0.02661773]\n",
      "--------------------------------------------\n",
      "9 : Sentence: 1. Defined Terms; References. Capitalized terms used in this Amendment and not otherwise defined herein have the respective meanings assigned thereto in the Credit Agreement. The rules of construction specified in Section 1.02 of the Credit Agreement also apply to this Amendment. \n",
      "Embedding: [ 0.00313783  0.02900547  0.03686373 -0.00898937 -0.01157025  0.04099106\n",
      "  0.02967751  0.01686555 -0.00617213 -0.02641338]\n",
      "--------------------------------------------\n",
      "11 : Sentence: 2. Amendments to the Existing Credit Agreement. Pursuant to Section 2.14(b) of the Existing Credit Agreement, the Existing Credit Agreement is hereby amended to delete the stricken text (indicated textually in the same manner as the following example: stricken text) and to add the double-underlined text (indicated textually in the same manner as the following example: double-underlined text) as set forth in the pages attached as Exhibit A hereto. \n",
      "Embedding: [-0.08006983  0.11380928  0.05764875  0.03649759 -0.0455277   0.08342393\n",
      " -0.00926009 -0.02909008  0.06730769 -0.05579194]\n",
      "--------------------------------------------\n",
      "13 : Sentence: (a) the Borrower and each of the Material Subsidiaries (i) is a partnership, limited liability company or corporation duly organized, validly existing and in good standing (or, if applicable in a foreign jurisdiction, enjoys the equivalent status under the laws of any jurisdiction of organization outside the United States) under the laws of the jurisdiction of its organization, (ii) has all requisite corporate or other organizational power and authority to own its property and assets and to carry on its business as now conducted, (iii) is qualified to do business in each jurisdiction where such qualification is required, except where the failure so to qualify would not reasonably be expected to have a Material Adverse Effect, and (iv) has the power and authority to execute, deliver and perform its obligations under this Amendment; \n",
      "Embedding: [-0.03465589 -0.01499871  0.04768895 -0.0577895  -0.03651132  0.0040981\n",
      "  0.01347003  0.01977182 -0.02969123 -0.03270345]\n",
      "--------------------------------------------\n",
      "14 : Sentence: (b) the execution, delivery and performance by the Borrower of this Amendment (i) have been duly authorized by all corporate or stockholder action required to be obtained by the Borrower and (ii) will not (A) violate (1) any provision of law (including Gaming Laws), statute, rule or regulation applicable to the Borrower, (2) any provision of the certificate or articles of incorporation or other constitutive documents (including any by-laws) of the Borrower, (3) any applicable order of any court or any rule, regulation or order of any Governmental Authority applicable to the Borrower or (4) any provision of any indenture, certificate of designation for preferred stock, agreement or other instrument to which the Borrower is a party or by which it or any of its property is or may be bound, (B) be in conflict with, result in a breach of or constitute (alone or with notice or lapse of time or both) a default under, give rise to a right of or result in any cancellation or acceleration of any right or obligation (including any payment) or to a loss of a material benefit under any such indenture, certificate of designation for preferred stock, agreement or other instrument, where any such conflict, violation, breach or default referred to in clause (A) or (B) of this Section 3(b)(ii), would reasonably be expected to have, individually or in the aggregate, a Material Adverse Effect, or (C) result in the creation or imposition of any Lien upon or with respect to any property or assets now owned or hereafter acquired by the Borrower, other than the Liens created by the Loan Documents and Permitted Liens; \n",
      "Embedding: [-0.04142772  0.04421966  0.00665079 -0.08773286 -0.05134085  0.07205693\n",
      "  0.04763467  0.00687542  0.01591269  0.03116839]\n",
      "--------------------------------------------\n",
      "15 : Sentence: (c) this Amendment has been duly executed and delivered by the Borrower and constitutes a legal, valid and binding obligation of the Borrower enforceable against the Borrower in accordance with its terms, subject to (i) the effects of bankruptcy, insolvency, moratorium, reorganization, fraudulent conveyance or other similar laws affecting creditors’ rights generally, (ii) general principles of equity (regardless of whether such enforceability is considered in a proceeding in equity or at law), (iii) implied covenants of good faith and fair dealing and (iv) any foreign laws, rules and regulations as they relate to pledges of Equity Interests in, and Indebtedness issued by, Foreign Subsidiaries that are not Loan Parties; and \n",
      "Embedding: [-0.02922541 -0.01275616  0.01092169 -0.0997192  -0.04164733  0.00788658\n",
      " -0.00535532 -0.01886519  0.03253506 -0.0413193 ]\n",
      "--------------------------------------------\n",
      "16 : Sentence: (d) no Default or Event of Default is continuing on and as of the Second Amendment Effective Date after giving effect hereto. \n",
      "Embedding: [ 0.03785982  0.03118901  0.09160542 -0.02499722  0.02707111  0.11115612\n",
      " -0.05491487 -0.03190522  0.00958093  0.08329901]\n",
      "--------------------------------------------\n",
      "20 : Sentence: 4. Conditions. This Amendment shall become effective as of the first date (the “Second Amendment Effective Date”) when each of the following conditions shall have been satisfied: \n",
      "Embedding: [-0.02031865  0.06279907  0.10885862 -0.00924388 -0.01563993  0.11519468\n",
      " -0.05442867 -0.03392979 -0.07505833 -0.0003661 ]\n",
      "--------------------------------------------\n",
      "21 : Sentence: (a) the Administrative Agent (or its counsel) shall have received from the Borrower and the Administrative Agent (i) a counterpart of this Amendment signed on behalf of such party or (ii) written evidence reasonably satisfactory to the Administrative Agent (which may include facsimile or electronic transmission of a signed signature page of this Amendment) that such party has signed a counterpart of this Amendment; \n",
      "Embedding: [-6.6538647e-02  2.3830332e-02 -1.1992826e-02 -5.3391807e-02\n",
      " -2.6583692e-05  4.9225539e-02  5.4768261e-02  3.7889425e-02\n",
      "  2.4375990e-02 -9.1802422e-03]\n",
      "--------------------------------------------\n",
      "22 : Sentence: (b) The Administrative Agent has not received, by the Objection Deadline, written notice of objection to this Amendment as provided herein from Lenders comprising the Required Lenders; \n",
      "Embedding: [ 0.00732478  0.05310713  0.00281785  0.0336179   0.00823777  0.0372378\n",
      " -0.0049046   0.02908561 -0.00639636  0.01956623]\n",
      "--------------------------------------------\n",
      "23 : Sentence: (c) the representations and warranties set forth in Section 3 above shall be true and correct as of the date hereof; and \n",
      "Embedding: [-0.10657448  0.07436404 -0.0139163  -0.0302407  -0.00382236  0.12364352\n",
      "  0.0418601   0.00461378 -0.00652544  0.00843008]\n",
      "--------------------------------------------\n",
      "24 : Sentence: (d) any fees and reasonable and documented out-of-pocket expenses (including reasonable fees, charges and disbursements of Cahill Gordon & Reindel LLP) owing by the Borrower to the Administrative Agent and invoiced at least three (3) Business Days prior to the date hereof shall have been paid in full. \n",
      "Embedding: [-0.04174835  0.04836402  0.02970076 -0.0415679  -0.06542674 -0.01382213\n",
      " -0.02595962  0.01642486  0.03686098  0.03015843]\n",
      "--------------------------------------------\n",
      "26 : Sentence: (a) THIS AMENDMENT AND ANY CLAIMS, CONTROVERSY, DISPUTE OR CAUSES OF ACTION (WHETHER IN CONTRACT OR TORT OR OTHERWISE) BASED UPON, ARISING OUT OF OR RELATING TO THIS AMENDMENT SHALL BE CONSTRUED IN ACCORDANCE WITH AND GOVERNED BY THE LAW OF THE STATE OF NEW YORK, WITHOUT REGARD TO ANY PRINCIPLE OF CONFLICTS OF LAW THAT COULD REQUIRE THE APPLICATION OF ANY OTHER LAW. \n",
      "Embedding: [-0.04526189  0.07710468  0.06735006 -0.04689671  0.00315687  0.0730444\n",
      "  0.03017584 -0.03439785 -0.03531712  0.00501471]\n",
      "--------------------------------------------\n",
      "27 : Sentence: (b) EACH PARTY HERETO HEREBY AGREES AS SET FORTH IN SECTIONS 9.11 AND 9.15 OF THE CREDIT AGREEMENT AS IF SUCH SECTIONS WERE SET FORTH IN FULL HEREIN. \n",
      "Embedding: [-0.06043115  0.02919867  0.03946663 -0.05686764  0.01331958  0.12072156\n",
      "  0.03115544 -0.03750343  0.00782045 -0.0281544 ]\n",
      "--------------------------------------------\n",
      "28 : Sentence: 6. Confirmation of Guaranties and Security Interests. By signing this Amendment, the Borrower (on behalf of itself and each of the Subsidiary Loan Parties) hereby confirms that (a) the obligations of the Borrower and each of the Subsidiary Loan Parties under the Credit Agreement as modified hereby and the other Loan Documents (i) are entitled to the benefits of the guarantees and the security interests set forth or created in the Collateral Agreement and the other Loan Documents and (ii) constitute Loan Obligations and (b) notwithstanding the effectiveness of the terms hereof, the Collateral Agreement and the other Loan Documents are, and shall continue to be, in full force and effect and are hereby ratified and confirmed in all respects after giving effect to the amendments contemplated by this Amendment. The Borrower (on behalf of itself and each of the Subsidiary Loan Parties) ratifies and confirms that all Liens granted, conveyed, or assigned to any Agent by such Person pursuant to each Loan Document to which it is a party remain in full force and effect, are not released or reduced, and continue to secure full payment and performance of the Loan Obligations as modified hereby. \n",
      "Embedding: [-0.06771891  0.00261277  0.03168907 -0.05586756  0.01191458  0.00490094\n",
      "  0.06718744 -0.00486448  0.05560719 -0.06070432]\n",
      "--------------------------------------------\n",
      "30 : Sentence: (a) From and after the Second Amendment Effective Date, each reference in the Credit Agreement to “hereunder”, “hereof” or words of like import referring to the Credit Agreement, and each reference in the other Loan Documents to the “Credit Agreement”, “thereunder”, “thereof” or words of like import referring to the Credit Agreement, shall mean and be a reference to the Credit Agreement as modified by this Amendment. \n",
      "Embedding: [-0.03244744  0.04557452  0.02563252  0.01477434 -0.00474813  0.1337922\n",
      "  0.0006404   0.0043302  -0.00573756 -0.04903624]\n",
      "--------------------------------------------\n",
      "34 : Sentence: (b) From and after the Second Amendment Effective Date, this Amendment shall be a Loan Document under the Credit Agreement for all purposes of the Credit Agreement. \n",
      "Embedding: [-0.01535533  0.05922714  0.0643123  -0.01551316 -0.02453454  0.08390405\n",
      " -0.09875734  0.01636961 -0.01869078 -0.01027218]\n",
      "--------------------------------------------\n",
      "35 : Sentence: 8. Counterparts. This Amendment may be executed in counterparts, each of which when so executed shall be deemed to be an original and all of which when taken together shall constitute one and the same instrument. Delivery of an executed counterpart to this Amendment by facsimile transmission or electronic mail (or other electronic transmission pursuant to procedures approved by the Administrative Agent) shall be as effective as delivery of a manually signed original. The words “execute,” “execution,” “signed,” “signature,” and words of like import in or related to any document to be signed in connection with this Amendment and the transactions contemplated hereby (including without limitation consents and waivers) shall be deemed to include electronic signatures, the electronic matching of assignment terms and contract formations on electronic platforms approved by the Administrative Agent, or the keeping of records in electronic form, each of which shall be of the same legal effect, validity or enforceability as a manually executed signature or the use of a paper-based recordkeeping system, as the case may be, to the extent and as provided for in any applicable law, including the Federal Electronic Signatures in Global and National Commerce Act, the New York State Electronic Signatures and Records Act, or any other similar state laws based on the Uniform Electronic Transactions Act; provided that notwithstanding anything contained herein to the contrary, the Administrative Agent is under no obligation to accept electronic signatures in any form or in any format in the event that the Administrative Agent shall have notified the Borrower in writing that a manually executed signature is required with regard to any one or more documents. \n",
      "Embedding: [-0.06001697  0.03223811  0.00183075 -0.09150185 -0.02201661 -0.02550807\n",
      "  0.04934028 -0.00652833 -0.00747437 -0.03372003]\n",
      "--------------------------------------------\n",
      "36 : Sentence: 9. Miscellaneous. The Borrower shall pay all reasonable fees, costs and expenses of the Administrative Agent as agreed to between the parties incurred in connection with the negotiation, preparation and execution of this Amendment and the transactions contemplated hereby. The execution, delivery and effectiveness of this Amendment shall not, except as expressly provided herein, operate as a waiver of any right, power or remedy of any Lender or the Administrative Agent under any of the Loan Documents, nor constitute a waiver of any provision of any of the Loan Documents. \n",
      "Embedding: [-0.03692907  0.05979037  0.00516345 -0.02206841 -0.0410528   0.03066324\n",
      " -0.01257254 -0.01068188  0.00708123  0.02652219]\n",
      "--------------------------------------------\n",
      "41 : Sentence: IN WITNESS WHEREOF, the parties hereto have caused this Amendment to be duly executed as of the date first above written. \n",
      "Embedding: [-0.03085677  0.07157216  0.09594658 -0.01528373  0.03447673  0.07970458\n",
      " -0.01744335 -0.0550831   0.03034262  0.09379523]\n",
      "--------------------------------------------\n",
      "101 : Sentence: CREDIT AGREEMENT, dated as of July 20, 2020 (as amended by the First Amendment, the Second Amendment and as it may be further amended, restated, amended and restated, supplemented or otherwise modified from time to time, this “Agreement”), among CAESARS ENTERTAINMENT, INC., a Delaware corporation (f/k/a ELDORADO RESORTS, INC., a Nevada corporation (to be renamed CAESARS ENTERTAINMENT, INC. and converted to a Delaware corporation on the Closing Date) (the “Borrower”), the LENDERS party hereto from time to time, JPMORGAN CHASE BANK, N.A., as administrative agent for the Lenders (in such capacity, together with its successors and assigns in such capacity, the “Administrative Agent”), and U.S. BANK NATIONAL ASSOCIATION, as collateral agent for the Secured Parties (in such capacity, together with its successors and assigns in such capacity, the “Collateral Agent”). \n",
      "Embedding: [-0.02303259 -0.04273201 -0.03376361 -0.04919076 -0.05713883 -0.00234498\n",
      " -0.01096789  0.00428577  0.04985273 -0.07866348]\n",
      "--------------------------------------------\n",
      "102 : Sentence: WHEREAS, the Borrower has entered into that certain Agreement and Plan of Merger, dated as of June 24, 2019 (as amended by Amendment No. 1 to Agreement and Plan of Merger, dated as of August 15, 2019, and as otherwise amended, restated, amended and restated or otherwise modified prior to the date hereof, the “CEC Acquisition Agreement”), by and among the Borrower, Colt Merger Sub, Inc., a Delaware corporation and wholly-owned subsidiary of the Borrower (“Merger Sub”), and Caesars Entertainment Corporation, a Delaware corporation (“CEC”), pursuant to which Merger Sub will mergemerged with and into CEC on the Closing Date with CEC as the surviving entity of such merger and to be renamed Caesars Holdings, Inc. (the “CEC Acquisition”). \n",
      "Embedding: [-0.08915465 -0.09001803  0.05453671 -0.08648495 -0.05047706 -0.00138166\n",
      " -0.04844716  0.06964114  0.08184768 -0.03981807]\n",
      "--------------------------------------------\n",
      "103 : Sentence: WHEREAS, on the Closing Date, after the effectiveness of this Agreement, the Borrower will (a) changechanged its name from Eldorado Resorts, Inc. to Caesars Entertainment, Inc. and (b) convertconverted from a Nevada corporation into a Delaware corporation. \n",
      "Embedding: [ 0.00870594 -0.05344597  0.03284315 -0.04817266 -0.01869978 -0.04780829\n",
      " -0.03067768 -0.03428171  0.04731309 -0.03778977]\n",
      "--------------------------------------------\n",
      "104 : Sentence: WHEREAS, on the Closing Date, substantially simultaneously with the consummation of the CEC Acquisition, CEC will contributecontributed all of its Equity Interests in CEOC, LLC, a Delaware limited liability company and subsidiary of CEC (“CEOC”), to Caesars Resort Collection, LLC, a Delaware limited liability company and subsidiary of CEC (“CRC”), resulting in CEOC being a wholly-owned subsidiary of CRC (the “CEOC Event”). \n",
      "Embedding: [-0.01300219 -0.06853008  0.04770036 -0.01862746  0.05880734  0.00383911\n",
      "  0.01074349  0.04860281  0.10409448 -0.01760681]\n",
      "--------------------------------------------\n",
      "105 : Sentence: WHEREAS, on the Closing Date, substantially simultaneously with the consummation of the CEOC Event, CRC will (a) obtainobtained the CRC Closing Date Incremental Term Loan Facility under the CRC Credit Agreement and (b) together with CRC Finco, Inc., as co-issuers, assumeassumed all of the rights and obligations under the CRC Secured Notes. \n",
      "Embedding: [-0.0482671  -0.02701755  0.01109522 -0.03015691  0.03140987  0.04927011\n",
      "  0.02072037  0.05659159  0.07017606  0.02839322]\n",
      "--------------------------------------------\n",
      "106 : Sentence: WHEREAS, on the Closing Date, substantially simultaneously with the consummation of the CEC Acquisition, CEC and its subsidiaries intend to (a) enterentered into certain amendments to the Las Vegas Master Lease and receive an amendment consent fee of approximately $1,404 million (the “VICI Lease Financing”), and (b) enterentered into sale and leaseback transactions with affiliates of VICI Properties Inc. for the real properties commonly known as Harrah’s New Orleans, Harrah’s Laughlin and Harrah’s Atlantic City for net cash proceeds of approximately $1,823 million (the “VICI Sale and Leaseback Transactions” and, together with the VICI Lease Financing, the “VICI Transactions”). \n",
      "Embedding: [ 0.04592053  0.02599118 -0.07458182  0.00863143 -0.0353036  -0.01819316\n",
      "  0.00369418  0.00878783  0.05331677  0.01336289]\n",
      "--------------------------------------------\n",
      "107 : Sentence: WHEREAS, on the Closing Date, (a) CRC will applyapplied a portion of the proceeds of the VICI Sale and Leaseback Transactions and the proceeds of the sale of the Rio Hotel and Casino to repay in full and terminate all obligations and commitments under the CEOC Credit Agreement, (b) CRC will lendlent the remaining proceeds of the VICI Sale and Leaseback Transactions and the proceeds of the sale of the Rio Hotel and Casino to CEC in order to pay a portion of the cash consideration for the CEC Acquisition and (c) CRC will distributedistributed the proceeds of the CRC Closing Date Incremental Term Loan Facility, the CRC Secured Notes and the VICI Lease Financing (if received) and cash on hand to CEC and/or the Borrower in order to pay a portion of the cash consideration for the CEC Acquisition. \n",
      "Embedding: [-0.03183331 -0.01340317 -0.00738704 -0.05924018 -0.02080753  0.04020689\n",
      "  0.00425785  0.05739569  0.07372043  0.03423212]\n",
      "--------------------------------------------\n",
      "109 : Sentence: WHEREAS, the Borrower is enteringentered into this Agreement and the other Loan Documents in order to consummate the CEC Acquisition and the other Transactions, and, in connection therewith, (a) the Borrower has requested the Lenders to extend credit in the form of Revolving Facility Loans and Letters of Credit at any time and from time to time prior to the Revolving Facility Maturity Date, in an aggregate Outstanding Amount at any time not to exceed $1,000.0 million, and (b) the Borrower will assumeassumed the obligations of Merger Sub as an issuer in respect of (i) $1,800 million in aggregate principal amount of the Senior Unsecured Notes and (ii) $3,400 million in aggregate principal amount of the First Priority Senior Secured Notes. \n",
      "Embedding: [-0.06655671 -0.00134492  0.02338607 -0.05905587 -0.06994653 -0.03124678\n",
      " -0.02384347  0.10692686  0.042721   -0.00645235]\n",
      "--------------------------------------------\n",
      "110 : Sentence: NOW, THEREFORE, the Lenders and the L/C Issuer are willing to extend such credit to the Borrower on the terms and subject to the conditions set forth herein. Accordingly, the parties hereto agree as follows: \n",
      "Embedding: [-0.08688596  0.01947379  0.05605778 -0.01172979 -0.01875242  0.08205323\n",
      " -0.05669788  0.03338533 -0.03525949 -0.00424327]\n",
      "--------------------------------------------\n",
      "113 : Sentence: SECTION 1.01. Defined Terms. As used in this Agreement, the following terms shall have the meanings specified below: \n",
      "Embedding: [ 0.01323267  0.03950918  0.01757603 -0.01196127 -0.00385753  0.02114477\n",
      "  0.06783916  0.0016593  -0.07107205 -0.03690222]\n",
      "--------------------------------------------\n",
      "114 : Sentence: “ABR” shall mean, for any day, a rate per annum equal to the greatest of (a) the NYFRB Rate in effect for such day plus 0.50%, (b) the Prime Rate in effect on such day and (c) the Adjusted Eurocurrency Rate for a one-month Interest Period on such day (or if such day is not a Business Day, the immediately preceding Business Day) plus 1.00%; provided, that for the purpose of this definition, the Adjusted Eurocurrency Rate for any day shall be based on the Eurocurrency Screen Rate (or if the Eurocurrency Screen Rate is not available for such one month Interest Period, the Interpolated Rate) at approximately 11:00 a.m. London time on such day. Any change in such rate due to a change in the Prime Rate, the NYFRB Rate or the Adjusted Eurocurrency Rate shall be effective from and including the effective date of such change in the Prime Rate, the NYFRB Rate or the Adjusted Eurocurrency Rate, as the case may be. If the ABR is being used as an alternate rate of interest pursuant to Section 2.14 (for the avoidance of doubt, only until any amendment has become effective pursuant to Section 2.14(b)), then the ABR shall be the greater of clauses (a) and (b) above and shall be determined without reference to clause (c) above. For the avoidance of doubt, if the ABR as determined pursuant to the foregoing would be less than 1.00%, such rate shall be deemed to be 1.00% for purposes of this Agreement. \n",
      "Embedding: [-0.04143167 -0.01975976 -0.00708398 -0.0251817  -0.01221245 -0.06698377\n",
      " -0.03330195  0.05041022  0.00641474 -0.06049307]\n",
      "--------------------------------------------\n",
      "116 : Sentence: “ABR Loan” shall mean any ABR Term Loan or ABR Revolving Loan, in each case denominated in Dollars or in any Alternate Currency. \n",
      "Embedding: [-0.05722976 -0.02552718 -0.05828534 -0.03325501 -0.07226121 -0.09218904\n",
      " -0.03854296  0.01343863  0.01825827 -0.08197826]\n",
      "--------------------------------------------\n",
      "118 : Sentence: “ABR Revolving Loan” shall mean any Revolving Facility Loan bearing interest at a rate determined by reference to the ABR in accordance with the provisions of Article II. \n",
      "Embedding: [-0.03712638  0.00434313 -0.07772909 -0.05317492 -0.09306251 -0.04564629\n",
      " -0.09627361  0.02890831  0.03185178 -0.02967264]\n",
      "--------------------------------------------\n",
      "119 : Sentence: “ABR Term Loan” shall mean any Term Loan bearing interest at a rate determined by reference to the ABR in accordance with the provisions of Article II. \n",
      "Embedding: [-0.02784024 -0.01788213 -0.01137965 -0.02054494 -0.03913997 -0.03090056\n",
      " -0.05920441  0.0211329   0.00012942 -0.01975895]\n",
      "--------------------------------------------\n",
      "126 : Sentence: “Act of Terrorism” shall mean an act of any person directed towards the overthrowing or influencing of any government de jure or de facto, or the inducement of fear in or the disruption of the economic system of any society, by force or by violence, including (i) the hijacking or destruction of any conveyance (including an aircraft, vessel, or vehicle), transportation infrastructure or building, (ii) the seizing or detaining, and threatening to kill, injure, or continue to detain, or the assassination of, another individual, (iii) the use of any (a) biological agent, chemical agent, or nuclear weapon or device, or (b) explosive or firearm, with intent to endanger, directly or indirectly, the safety of one or more individuals or to cause substantial damage to property and (iv) a credible threat, attempt, or conspiracy to do any of the foregoing. \n",
      "Embedding: [-0.04559227 -0.03126352 -0.05993756 -0.01719112  0.04800377  0.050794\n",
      "  0.15431355 -0.01664655 -0.00871745  0.03803523]\n",
      "--------------------------------------------\n",
      "128 : Sentence: “Additional Master Lease” shall mean any Gaming Lease that is in a form that is not materially less favorable to the Borrower and/or its Subsidiaries than the Master Lease referred to in clauses (i) and (ii) of the definition thereof as originally in effect (as determined by the Borrower in good faith) and is entered into between the Borrower and/or one of its Subsidiaries and the landlord under such Gaming Lease. \n",
      "Embedding: [ 0.02082173 -0.06558692  0.03616976 -0.03307535 -0.01310479  0.06310891\n",
      " -0.01377682  0.00715369  0.03522422  0.01123031]\n",
      "--------------------------------------------\n",
      "131 : Sentence: “Adjusted Daily Simple RFR” shall mean, with respect to any RFR Borrowing, an interest rate per annum equal to the greater of (x) (a) the Daily Simple RFR, plus (b) 0.0326%, and (y) 0.00%. \n",
      "Embedding: [ 0.00163301  0.06689207 -0.03366019  0.06461231 -0.01150201 -0.0619342\n",
      " -0.04685598  0.05886547 -0.07225338 -0.02176828]\n",
      "--------------------------------------------\n",
      "132 : Sentence: “Adjusted EURIBOR Rate” shall mean, with respect to any Term Benchmark Borrowing denominated in Euros for any Interest Period, an interest rate per annum equal to the greater of (x) (a) the EURIBOR Rate for such Interest Period multiplied by (b) the Statutory Reserve Rate, and (y) 0.00%. \n",
      "Embedding: [ 0.01735327  0.03658415 -0.02749291 -0.00015523  0.01457186  0.01445521\n",
      " -0.0518441   0.07280723 -0.05319079 -0.02596332]\n",
      "--------------------------------------------\n",
      "133 : Sentence: “Adjusted Eurocurrency Rate” shall mean, with respect to any EurocurrencyTerm Benchmark Borrowing denominated in Dollars for any Interest Period, an interest rate per annum equal to the greater of (x) (a) the Eurocurrency Rate for the applicable currency for such Interest Period multiplied by (b) the Statutory Reserve Rate, and (y) 0.00%. \n",
      "Embedding: [ 0.00483953  0.0435998  -0.01170249  0.03270384  0.032061    0.00822114\n",
      " -0.05918421  0.08607757 -0.0143523  -0.04605098]\n",
      "--------------------------------------------\n",
      "134 : Sentence: “Adjusted TIBOR Rate” shall mean, with respect to any Term Benchmark Borrowing denominated in Yen for any Interest Period, an interest rate per annum equal to the greater of (x) (a) the TIBOR Rate for such Interest Period multiplied by (b) the Statutory Reserve Rate, and (y) 0.00%. \n",
      "Embedding: [ 0.0397223   0.00607533 -0.03835047  0.01225479  0.03368015  0.02079735\n",
      " -0.01582072  0.05638165 -0.05361519 -0.04452433]\n",
      "--------------------------------------------\n",
      "139 : Sentence: “Administrative Agent” shall have the meaning assigned to such term in the introductory paragraph of this Agreement. \n",
      "Embedding: [-0.02419824  0.00818332 -0.05332191 -0.01462475 -0.08616666  0.02410191\n",
      "  0.03512504 -0.021707   -0.04685957  0.01133498]\n",
      "--------------------------------------------\n",
      "141 : Sentence: “Administrative Agent’s Office” shall mean, with respect to any currency, the Administrative Agent’s address and, as appropriate, account as set forth on Schedule 9.01 with respect to such currency, or such other address or account with respect to such currency as the Administrative Agent may from time to time notify to the Borrower and the Lenders. \n",
      "Embedding: [-0.0519872   0.02651723 -0.06978992 -0.00664291 -0.11001939  0.00553995\n",
      "  0.04867762 -0.00575834  0.02465876 -0.02758254]\n",
      "--------------------------------------------\n",
      "142 : Sentence: “Administrative Questionnaire” shall mean an Administrative Questionnaire in a form supplied by the Administrative Agent. \n",
      "Embedding: [ 0.00560373  0.01830638 -0.06297967  0.0455003  -0.09331022  0.06661585\n",
      "  0.05215426  0.05260717 -0.09704343  0.02575045]\n",
      "--------------------------------------------\n",
      "143 : Sentence: “Affected Financial Institution” shall mean (a) any EEA Financial Institution or (b) any UK Financial Institution. \n",
      "Embedding: [ 0.07892834  0.02480452  0.01234296 -0.00421018 -0.00400725  0.02130627\n",
      "  0.03484467 -0.03348028  0.02072206 -0.06224417]\n",
      "--------------------------------------------\n",
      "144 : Sentence: “Affiliate” shall mean, when used with respect to a specified person, another person that directly, or indirectly through one or more intermediaries, Controls or is Controlled by or is under common Control with the person specified. \n",
      "Embedding: [ 0.01043943 -0.085573   -0.03815318  0.00682093  0.01815997 -0.01250774\n",
      "  0.07357659  0.0031805  -0.05804752 -0.05015953]\n",
      "--------------------------------------------\n",
      "149 : Sentence: “Agreement” shall have the meaning assigned to such term in the introductory paragraph of this Agreement, as may be amended, restated, amended and restated, supplemented or otherwise modified from time to time. \n",
      "Embedding: [-0.02490411  0.0756568   0.02508492 -0.01946233 -0.07446266  0.07194728\n",
      " -0.06863635 -0.01480062  0.0241727  -0.03188982]\n",
      "--------------------------------------------\n",
      "150 : Sentence: “Alternate Currency” shall mean (i) with respect to any Letter of Credit, Canadian Dollars, Euros, Pounds Sterling, Japanese Yen and any other currency other than Dollars as may be acceptable to the Administrative Agent and the applicable L/C Issuer with respect thereto in their sole discretion and (ii) with respect to any Loan, Canadian Dollars, Euros, Pounds Sterling, Japanese Yen and any currency other than Dollars that is approved in accordance with Section 1.08. \n",
      "Embedding: [-0.05778596 -0.00936992 -0.04235883 -0.05229806 -0.02648836 -0.00679006\n",
      "  0.01992603  0.05938712 -0.00461421 -0.05579904]\n",
      "--------------------------------------------\n",
      "151 : Sentence: “Alternate Currency Equivalent” shall mean, at any time, with respect to any amount denominated in Dollars, the equivalent amount thereof in the applicable Alternate Currency as determined by the Administrative Agent or the applicable L/C Issuer, as the case may be, at such time on the basis of the Spot Rate (determined in respect of the most recent Revaluation Date) for the purchase of such Alternate Currency with Dollars. \n",
      "Embedding: [-0.06171756  0.00146486 -0.04287692 -0.0252303  -0.02393758 -0.06076535\n",
      " -0.00852764  0.07789586 -0.00411149 -0.09122866]\n",
      "--------------------------------------------\n",
      "152 : Sentence: “Alternate Currency Letter of Credit” shall mean any Letter of Credit denominated in an Alternate Currency. \n",
      "Embedding: [-0.06596003 -0.00513815 -0.01051411 -0.02057099 -0.04653587  0.00916537\n",
      " -0.00652984  0.02805445 -0.0250823  -0.09328408]\n",
      "--------------------------------------------\n",
      "158 : Sentence: “Anti-Money Laundering Laws” shall mean any and all laws, judgments, orders, executive orders, decrees, ordinances, rules, regulations, statutes, case law or treaties applicable to a Loan Party, its Subsidiaries or Affiliates, related to terrorism financing or money laundering including any applicable provision of the USA PATRIOT Act and The Currency and Foreign Transactions Reporting Act (also known as the “Bank Secrecy Act,” 31 U.S.C. §§ 5311-5330 and 12 U.S.C. §§ 1818(s), 1820(b) and 1951-1959), as amended from time to time and any successors thereto. \n",
      "Embedding: [-0.04346404 -0.02027565 -0.00921975 -0.03403021  0.01723788 -0.06224636\n",
      "  0.03793549 -0.04394656  0.01099654 -0.03458048]\n",
      "--------------------------------------------\n",
      "159 : Sentence: “Applicable Commitment Fee” shall mean, for any day, (i) 0.50% per annum; provided, that on and after each Adjustment Date occurring from and after delivery of the financial statements and certificates required by Section 5.04 upon the completion of one full fiscal quarter of the Borrower after the Closing Date, the “Applicable Commitment Fee” will be determined pursuant to the Pricing Grid for Revolving Facility Loans and Revolving Facility Commitments or (ii) with respect to any Other Revolving Facility Commitments, the “Applicable Commitment Fee” set forth in the applicable Incremental Assumption Agreement. \n",
      "Embedding: [ 0.00833522 -0.00227546 -0.02885375 -0.01693844 -0.00316389  0.00982917\n",
      "  0.0142864   0.00390849  0.02482329  0.02444251]\n",
      "--------------------------------------------\n",
      "162 : Sentence: “Applicable Margin” shall mean for any day with respect to any Initial Revolving Loan, 3.25% per annum in the case of any Eurocurrency Loan (as defined in this Agreement as in effect prior to the Second Amendment Effective Date) and 2.25% per annum in the case of any ABR Loan; provided, however, that on and after each Adjustment Date occurring from and after delivery of the financial statements and certificates required by Section 5.04 upon the completion of one full fiscal quarter of the Borrower after the Closing Date, the “Applicable Margin” with respect to any Initial Revolving Loan will be determined pursuant to the Pricing Grid. The Applicable Margin for any Incremental Term Loans and Other Revolving Loans shall be as set forth in the applicable Incremental Assumption Agreement. \n",
      "Embedding: [-0.01708718 -0.01920496 -0.03996903 -0.07707836 -0.04490596 -0.05053378\n",
      " -0.11374031  0.05202202  0.0461862  -0.03839707]\n",
      "--------------------------------------------\n",
      "165 : Sentence: “Arrangers” shall mean, collectively, the Joint Lead Arrangers, the Syndication Agents and the Documentation Agents. \n",
      "Embedding: [-0.00914375 -0.05247611 -0.03422945  0.02084416 -0.08041418  0.08727992\n",
      " -0.02094342 -0.03646727  0.06760792  0.0265765 ]\n",
      "--------------------------------------------\n",
      "166 : Sentence: “Asset Sale” shall mean (a) any loss, damage, destruction or condemnation of, or any sale, transfer or other disposition (including any sale and leaseback of assets) of any asset or assets of the Borrower or any Subsidiary to any Person that is not a Loan Party or a Subsidiary thereof, (b) a Convention Center Unrestricted Subsidiary Sale or (c) an Interactive Entertainment Unrestricted Subsidiary Sale. \n",
      "Embedding: [ 0.04805653  0.00748851 -0.04793844 -0.05794292 -0.02548063  0.02438352\n",
      "  0.05879512  0.01487144  0.01691078 -0.01958787]\n",
      "--------------------------------------------\n",
      "168 : Sentence: “Assignment and Acceptance” shall mean an assignment and acceptance entered into by a Lender and an Assignee, and accepted by the Administrative Agent and the Borrower (if required by Section 9.04), in the form of Exhibit A or such other form as shall be approved by the Administrative Agent and reasonably satisfactory to the Borrower. \n",
      "Embedding: [-0.03503161 -0.00146118 -0.00775843  0.01200191 -0.0308311   0.03428026\n",
      "  0.08777353 -0.0609522  -0.0738058  -0.02146604]\n",
      "--------------------------------------------\n",
      "173 : Sentence: “Auto-Reinstatement Letter of Credit” shall have the meaning assigned to such term in Section 2.05(b). \n",
      "Embedding: [-0.08470492 -0.05972084  0.03133924  0.01553424 -0.05077369  0.11801606\n",
      "  0.02347661 -0.02813543 -0.09979294 -0.05399254]\n",
      "--------------------------------------------\n",
      "174 : Sentence: “Availability Period” shall mean, with respect to any Class of Revolving Facility Commitments under any Revolving Facility, the period from and including the Closing Date (or, if later, the effective date for such Class of Revolving Facility Commitments) to but excluding the earlier of the Revolving Facility Maturity Date with respect to such Class and, in the case of each of the Revolving Facility Loans, Revolving Facility Borrowings and Letters of Credit under such Revolving Facility, the date of termination in full of the Revolving Facility Commitments of such Class. \n",
      "Embedding: [-0.04219458  0.00763706 -0.01870897  0.00723416 -0.05191487  0.04960851\n",
      " -0.0635152  -0.00938099 -0.01253072 -0.09552241]\n",
      "--------------------------------------------\n",
      "175 : Sentence: “Available Tenor” shall mean, as of any date of determination and with respect to the then-current Benchmark for any Agreed Currency, as applicable, any tenor for such Benchmark (or component thereof) or payment period for interest calculated with reference to such Benchmark (or component thereof) for such Agreed Currency, as applicable, that is or may be used for determining the length of an Interest Period for any term rate or otherwise, for determining any frequency of making payments of interest for such Agreed Currency calculated pursuant to this Agreement as of such date. \n",
      "Embedding: [-0.01991729  0.04701718 -0.07156045  0.0001171  -0.02993694  0.06255117\n",
      " -0.0500935   0.05450521 -0.01938706 -0.07550868]\n",
      "--------------------------------------------\n",
      "176 : Sentence: “Available Unused Commitment” shall mean, with respect to a Revolving Facility Lender under any Revolving Facility at any time, an amount equal to the amount by which (a) the Revolving Facility Commitment under such Revolving Facility of such Revolving Facility Lender at such time exceeds (b) the Revolving Facility Credit Exposure under such Revolving Facility of such Revolving Facility Lender at such time. \n",
      "Embedding: [ 0.01949788  0.05631482 -0.03263732  0.05816591  0.01348869  0.07330218\n",
      "  0.0128417  -0.00289167  0.04027048 -0.04589102]\n",
      "--------------------------------------------\n",
      "177 : Sentence: “Bail-In Action” shall mean the exercise of any Write-Down and Conversion Powers by the applicable Resolution Authority in respect of any liability of an Affected Financial Institution. \n",
      "Embedding: [-0.0443346   0.08044566 -0.05630347  0.00965825  0.03470981  0.05161718\n",
      "  0.07216611  0.03320162 -0.03700424  0.06280428]\n",
      "--------------------------------------------\n",
      "178 : Sentence: “Bail-In Legislation” shall mean (a) with respect to any EEA Member Country implementing Article 55 of Directive 2014/59/EU of the European Parliament and of the Council of the European Union, the implementing law, regulation, rule or requirement for such EEA Member Country from time to time which is described in the EU Bail-In Legislation Schedule and (b) with respect to the United Kingdom, Part I of the United Kingdom Banking Act 2009 (as amended from time to time) and any other law, regulation or rule applicable in the United Kingdom relating to the resolution of unsound or failing banks, investment firms or other financial institutions or their affiliates (other than through liquidation, administration or other insolvency proceedings). \n",
      "Embedding: [-0.01694055  0.0908479   0.01802441 -0.03011223  0.04731205  0.03169205\n",
      "  0.01627467  0.01813496 -0.02679571 -0.01447495]\n",
      "--------------------------------------------\n",
      "179 : Sentence: “Bankruptcy Code” shall mean Title 11 of the United States Code, as amended, modified, or supplemented from time to time or any similar federal or state law for the relief of debtors. \n",
      "Embedding: [-0.0862512   0.03575533 -0.02769102 -0.08483431 -0.09179093  0.05202818\n",
      " -0.06427319  0.00581062 -0.07561762 -0.08196775]\n",
      "--------------------------------------------\n",
      "180 : Sentence: “Below Threshold Asset Sale Proceeds” shall have the meaning assigned to such term in the definition of the term “Cumulative Credit.” \n",
      "Embedding: [-0.0044802  -0.02421978 -0.0291771  -0.08504541 -0.05242824  0.03248265\n",
      "  0.0456631   0.06988186  0.03813794  0.01195829]\n",
      "--------------------------------------------\n",
      "181 : Sentence: “Benchmark” shall mean, initially, with respect to any (i) RFR Loan in any Agreed Currency, the applicable Relevant Rate for such Agreed Currency or (ii) Term Benchmark Loan in any Agreed Currency, the Relevant Rate for such Agreed Currency; provided that if a Benchmark Transition Event, and the related Benchmark Replacement Date have occurred with respect to the then-current Benchmark for such Agreed Currency, then “Benchmark” means the applicable Benchmark Replacement to the extent that such Benchmark Replacement has replaced such prior benchmark rate pursuant to clause (b) of Section 2.14. \n",
      "Embedding: [-0.08385753 -0.01689346 -0.05041758  0.01284609  0.01287884 -0.04729972\n",
      " -0.08212835  0.02438052 -0.03090562 -0.06239004]\n",
      "--------------------------------------------\n",
      "185 : Sentence: “Benchmark Replacement” shall mean the sum of: (a) the alternate benchmark rate (which may be a SOFR-Based Rate) that has been selected by the Administrative Agent and the Borrower giving due consideration to (i) any selection or recommendation of a replacement rate or the mechanism for determining such a rate by the Relevant Governmental Body and/or (ii) any evolving or then-prevailing market convention for determining a rate of interest as a replacement to the Eurocurrency Rate for U.S. dollar-denominatedapplicable Benchmark for syndicated credit facilities denominated in the applicable Agreed Currency at such time in the United States and (b) the Benchmark Replacement Adjustment; provided that, if the Benchmark Replacement as so determined would be less than zero, the Benchmark Replacement will be deemed to be zero for the purposes of this Agreement; provided further that any such Benchmark Replacement shall be administratively feasible as determined by the Administrative Agent in its reasonable discretion. \n",
      "Embedding: [-0.01161291 -0.02366813 -0.03987964 -0.02751669  0.00918348  0.00476455\n",
      " -0.08428541  0.01537227  0.04175277 -0.05010794]\n",
      "--------------------------------------------\n",
      "186 : Sentence: “Benchmark Replacement Adjustment” shall mean, with respect to any replacement of a then-current Benchmark with an Unadjusted Benchmark Replacement for any applicable Interest Period and Available Tenor for any setting of such Unadjusted Benchmark Replacement, the spread adjustment, or method for calculating or determining such spread adjustment (which may be a positive or negative value or zero), that has been selected by the Administrative Agent and the Borrower for the applicable Corresponding Tenor giving due consideration to (i) any selection or recommendation of a spread adjustment, or method for calculating or determining such spread adjustment, for the replacement of the Eurocurrency Ratesuch Benchmark with the applicable Unadjusted Benchmark Replacement by the Relevant Governmental Body on the applicable Benchmark Replacement Date and/or (ii) any evolving or then-prevailing market convention for determining a spread adjustment, or method for calculating or determining such spread adjustment, for the replacement of the Eurocurrency Ratesuch Benchmark with the applicable Unadjusted Benchmark Replacement for U.S. dollar-denominated syndicated credit facilities denominated in the applicable Agreed Currency at such time in the United States (for the avoidance of doubt, but without limiting the first parenthetical in this definition, such Benchmark Replacement Adjustment shall not be in the form of a reduction to the Applicable Margin). \n",
      "Embedding: [-0.03709706 -0.01605836 -0.00050067 -0.00852093 -0.00031097 -0.01182094\n",
      " -0.12614878  0.07955751  0.01922262 -0.05246698]\n",
      "--------------------------------------------\n",
      "187 : Sentence: “Benchmark Replacement Conforming Changes” shall mean, with respect to any Benchmark Replacement, any technical, administrative or operational changes (including changes to the definition of “ABR,” the definition of “Interest Period,” the definition of “Business Day,” the definition of “RFR Business Day,” timing and frequency of determining rates and making payments of interest and other administrative matters) that the Administrative Agent decides in its reasonable discretion may be appropriate to reflect the adoption and implementation of such Benchmark Replacement and to permit the administration thereof by the Administrative Agent in a manner substantially consistent with market practice (or, if the Administrative Agent reasonably decides that adoption of any portion of such market practice is not administratively feasible or if the Administrative Agent reasonably determines that no market practice for the administration of the Benchmark Replacement exists, in such other manner of administration as the Administrative Agent decides is reasonably necessary in connection with the administration of this Agreement). \n",
      "Embedding: [-0.06660158 -0.00250218 -0.04055231 -0.02542053 -0.06512079 -0.04009952\n",
      " -0.04250603 -0.01281208 -0.01130718 -0.03736896]\n",
      "--------------------------------------------\n",
      "188 : Sentence: “Benchmark Replacement Date” shall mean, with respect to any Benchmark, the earlier to occur of the following events with respect to the Eurocurrency Ratesuch then-current Benchmark: \n",
      "Embedding: [-0.03979073 -0.00746018  0.02175236  0.01663599  0.05751828  0.00457158\n",
      " -0.10317256  0.02175314 -0.0120178  -0.06091785]\n",
      "--------------------------------------------\n",
      "189 : Sentence: (1) in the case of clause (1) or (2) of the definition of “Benchmark Transition Event,” the later of (a) the date of the public statement or publication of information referenced therein and (b) the date on which the administrator of the Eurocurrency Screen Ratesuch Benchmark (or the published component used in the calculation thereof) permanently or indefinitely ceases to provide the Eurocurrency Screen Rateall Available Tenors of such Benchmark (or such component thereof); or \n",
      "Embedding: [-0.0339496   0.04038631 -0.02931507 -0.01796777  0.0427948   0.03964346\n",
      " -0.02380494  0.0713621   0.05075726 -0.00166773]\n",
      "--------------------------------------------\n",
      "193 : Sentence: (2) in the case of clause (3) of the definition of “Benchmark Transition Event,” the date of the public statement or publication of information referenced therein. \n",
      "Embedding: [-0.01429515  0.05155217 -0.00136642  0.01724441  0.06635407  0.07551482\n",
      "  0.02902181  0.06441961  0.02246498  0.02082301]\n",
      "--------------------------------------------\n",
      "194 : Sentence: “Benchmark Transition Event” shall mean, with respect to any Benchmark, the occurrence of one or more of the following events with respect to the Eurocurrency Ratesuch then-current Benchmark: \n",
      "Embedding: [-0.03633794 -0.02894297 -0.01559435  0.01273308  0.06856775 -0.02426082\n",
      " -0.06281761  0.06070061  0.042081   -0.05195425]\n",
      "--------------------------------------------\n",
      "195 : Sentence: (1) a public statement or publication of information by or on behalf of the administrator of the Eurocurrency Screen Ratesuch Benchmark (or the published component used in the calculation thereof) announcing that such administrator has ceased or will cease to provide the Eurocurrency Screen Rateall Available Tenors of such Benchmark (or such component thereof), permanently or indefinitely, provided that, at the time of such statement or publication, there is no successor administrator that will continue to provide the Eurocurrency Screen Rateany Available Tenor of such Benchmark (or such component thereof); \n",
      "Embedding: [-0.01281961  0.02965227 -0.09219868 -0.03181811 -0.03950587  0.00790206\n",
      " -0.05690487  0.04871272  0.01422135 -0.03279286]\n",
      "--------------------------------------------\n",
      "196 : Sentence: (2) a public statement or publication of information by the regulatory supervisor for the administrator of the Eurocurrency Screen Ratesuch Benchmark (or the published component used in the calculation thereof), the U.S. Federal Reserve System, the central bank for the Agreed Currency applicable to such Benchmark, an insolvency official with jurisdiction over the administrator for the Eurocurrency Screen Ratesuch Benchmark (or such component), a resolution authority with jurisdiction over the administrator for the Eurocurrency Screen Ratesuch Benchmark (or such component) or a court or an entity with similar insolvency or resolution authority over the administrator for the Eurocurrency Screen Ratesuch Benchmark (or such component), in each case which states that the administrator of the Eurocurrency Screen Ratesuch Benchmark (or such component) has ceased or will cease to provide the Eurocurrency Screen Rateall Available Tenors of such Benchmark (or such component thereof) permanently or indefinitely,; provided that, at the time of such statement or publication, there is no successor administrator that will continue to provide the Eurocurrency Screen Rateany Available Tenor of such Benchmark (or such component thereof); and/or \n",
      "Embedding: [-0.00855375  0.00690972 -0.07259832 -0.04249525 -0.01210026 -0.00551875\n",
      " -0.05554244  0.05338133  0.03265908 -0.04201357]\n",
      "--------------------------------------------\n",
      "197 : Sentence: (3) a public statement or publication of information by the regulatory supervisor for the administrator of the Eurocurrency Screen Ratesuch Benchmark (or the published component used in the calculation thereof) announcing that the Eurocurrency Screen Rate isall Available Tenors of such Benchmark (or such component thereof) are no longer representative. \n",
      "Embedding: [-0.0400058   0.00830278 -0.08027032 -0.01338333 -0.01453431  0.0121915\n",
      " -0.03004527  0.05371824  0.04561805 -0.04707476]\n",
      "--------------------------------------------\n",
      "198 : Sentence: “Benchmark Transition Start Date” shall mean (a) in the case of a Benchmark Transition Event, the earlier of (i) the applicable Benchmark Replacement Date and (ii) if such Benchmark Transition Event is a public statement or publication of information of a prospective event, the 90th day prior to the expected date of such event as stated in such public statement or publication of information (or if the expected date of such prospective event is fewer than 90 days after such statement or publication, the date of such statement or publication) and (b) in the case of an Early Opt-in Election, the date specified by the Administrative Agent or the Required Lenders, as applicable, by notice to the Borrower, the Administrative Agent (in the case of such notice by the Required Lenders) and the Lenders. \n",
      "Embedding: [-0.03211377  0.01401581  0.02887812  0.00259887  0.02757462  0.04048086\n",
      " -0.06890587  0.04776382  0.03186591  0.00160619]\n",
      "--------------------------------------------\n",
      "199 : Sentence: “Benchmark Unavailability Period” shall mean, if a Benchmark Transition Event and its related Benchmark Replacement Date have occurred with respect to the Eurocurrency Rateany Benchmark and solely to the extent that the Eurocurrency Ratesuch then-current Benchmark has not been replaced with a Benchmark Replacement, the period (x) beginning at the time that such Benchmark Replacement Date has occurred if, at such time, no Benchmark Replacement has replaced the Eurocurrency Ratesuch then-current Benchmark for all purposes hereunder in accordance with Section 2.14 and (y) ending at the time that a Benchmark Replacement has replaced the Eurocurrency Ratesuch then-current benchmark for all purposes hereunder pursuant to Section 2.14. \n",
      "Embedding: [-0.09822772 -0.01694929  0.04174406  0.01832186  0.09642137 -0.01263808\n",
      " -0.05796483 -0.01787824 -0.00368328 -0.07631174]\n",
      "--------------------------------------------\n"
     ]
    }
   ],
   "source": [
    "#Print the embeddings\n",
    "for sentence, embedding in zip(doc_list[0]['raw'][:200], embeddings[:200]):\n",
    "    if len(sentence) > 100:\n",
    "        print(doc_list[0]['raw'].index(sentence), \": Sentence:\", sentence)\n",
    "        print(\"Embedding:\", embedding[:10])\n",
    "        print(\"--------------------------------------------\")"
   ]
  },
  {
   "cell_type": "code",
   "execution_count": 38,
   "id": "2f52484f-b163-494b-8e1a-af86092b2d00",
   "metadata": {},
   "outputs": [
    {
     "data": {
      "text/plain": [
       "array(0.60181576, dtype=float32)"
      ]
     },
     "execution_count": 38,
     "metadata": {},
     "output_type": "execute_result"
    }
   ],
   "source": [
    "cosine_similarity([embeddings[4]], [embeddings[5]]).squeeze()"
   ]
  },
  {
   "cell_type": "code",
   "execution_count": null,
   "id": "f985e72e-018d-4ea0-ad0c-c4abcb2eeb9a",
   "metadata": {},
   "outputs": [],
   "source": []
  }
 ],
 "metadata": {
  "kernelspec": {
   "display_name": "nlp_env",
   "language": "python",
   "name": "nlp_env"
  },
  "language_info": {
   "codemirror_mode": {
    "name": "ipython",
    "version": 3
   },
   "file_extension": ".py",
   "mimetype": "text/x-python",
   "name": "python",
   "nbconvert_exporter": "python",
   "pygments_lexer": "ipython3",
   "version": "3.7.9"
  }
 },
 "nbformat": 4,
 "nbformat_minor": 5
}
